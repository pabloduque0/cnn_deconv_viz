{
 "cells": [
  {
   "cell_type": "code",
   "execution_count": 1,
   "metadata": {},
   "outputs": [
    {
     "name": "stderr",
     "output_type": "stream",
     "text": [
      "Using TensorFlow backend.\n"
     ]
    }
   ],
   "source": [
    "import tensorflow as tf\n",
    "tf.enable_eager_execution()\n",
    "from keras import models\n",
    "from keras import layers\n",
    "from contextlib import redirect_stdout\n",
    "import os\n",
    "from keras.callbacks import ModelCheckpoint, TensorBoard\n",
    "from sklearn.model_selection import train_test_split\n",
    "from keras.models import load_model\n",
    "from keras.optimizers import Adam, SGD\n",
    "from metrics import dice_coef, dice_coef_loss, weighted_crossentropy, predicted_count, ground_truth_count, ground_truth_sum, predicted_sum\n",
    "\n",
    "import keras.backend as K\n",
    "import numpy as np\n",
    "import itk\n",
    "import cv2\n",
    "import matplotlib.pyplot as plt\n",
    "%matplotlib inline"
   ]
  },
  {
   "cell_type": "code",
   "execution_count": 2,
   "metadata": {},
   "outputs": [],
   "source": [
    "img_path = \"../Singapore/50/pre/brain_FLAIR.nii.gz\""
   ]
  },
  {
   "cell_type": "code",
   "execution_count": 16,
   "metadata": {},
   "outputs": [],
   "source": [
    "image = itk.imread(img_path)\n",
    "np_image = itk.GetArrayFromImage(image)\n",
    "np_image = np.swapaxes(np_image, 0, -1)"
   ]
  },
  {
   "cell_type": "code",
   "execution_count": 17,
   "metadata": {},
   "outputs": [
    {
     "data": {
      "text/plain": [
       "(256, 232, 48)"
      ]
     },
     "execution_count": 17,
     "metadata": {},
     "output_type": "execute_result"
    }
   ],
   "source": [
    "np_image.shape"
   ]
  },
  {
   "cell_type": "code",
   "execution_count": 18,
   "metadata": {},
   "outputs": [],
   "source": [
    "poolsize = (2, 2)"
   ]
  },
  {
   "cell_type": "code",
   "execution_count": 19,
   "metadata": {},
   "outputs": [],
   "source": [
    "x = np.swapaxes(cv2.resize(np_image, (np_image.shape[0]//2, np_image.shape[1]//2)), 0, 1)\n",
    "x = np.expand_dims(x, 0)\n",
    "x = tf.Variable(x)\n",
    "unpooled_layer = K.repeat_elements(x, poolsize[0], axis=1)\n",
    "unpooled_layer = K.repeat_elements(unpooled_layer, poolsize[1], axis=2)\n",
    "unpooled_layer = K.repeat_elements(unpooled_layer, 2, axis=-1)"
   ]
  },
  {
   "cell_type": "code",
   "execution_count": 20,
   "metadata": {},
   "outputs": [],
   "source": [
    "np_image = np.expand_dims(np_image, 0)"
   ]
  },
  {
   "cell_type": "code",
   "execution_count": 21,
   "metadata": {},
   "outputs": [
    {
     "data": {
      "text/plain": [
       "(1, 256, 232, 96)"
      ]
     },
     "execution_count": 21,
     "metadata": {},
     "output_type": "execute_result"
    }
   ],
   "source": [
    "K.int_shape(unpooled_layer)"
   ]
  },
  {
   "cell_type": "code",
   "execution_count": 22,
   "metadata": {},
   "outputs": [],
   "source": [
    "argmax_copy = tf.identity(np_image)\n",
    "for i in range(2):\n",
    "    argmax_copy = tf.reduce_mean(argmax_copy, axis=1)\n",
    "\n",
    "_, indexes = tf.nn.top_k(argmax_copy, 3)\n"
   ]
  },
  {
   "cell_type": "code",
   "execution_count": 43,
   "metadata": {},
   "outputs": [
    {
     "data": {
      "text/plain": [
       "5701632"
      ]
     },
     "execution_count": 43,
     "metadata": {},
     "output_type": "execute_result"
    }
   ],
   "source": [
    "all_indices = tf.where(tf.equal(unpooled_layer, unpooled_layer))\n",
    "\"\"\"\n",
    "for index in all_indices:\n",
    "    print(index.numpy())\n",
    "\"\"\"\n",
    "#print(len(all_indices.numpy()))\n",
    "#unpooled_layer is tf.gather_nd(unpooled_layer, all_indices)\n",
    "len(all_indices.numpy())"
   ]
  },
  {
   "cell_type": "code",
   "execution_count": 44,
   "metadata": {},
   "outputs": [],
   "source": [
    "\n",
    "\n",
    "final_new_shape =  np_image.shape\n",
    "to_take = tf.tile(tf.Variable([True]), tf.Variable([final_new_shape[-1]]))\n",
    "to_leave = tf.tile(tf.Variable([False]), tf.shape(unpooled_layer)[-1] - [final_new_shape[-1]])\n",
    "one_img_mask = tf.concat([to_take, to_leave], axis=0)\n",
    "multiples = tf.cast(tf.shape(all_indices)[0] / tf.shape(one_img_mask)[0], \"int64\")\n",
    "full_mask = tf.tile(one_img_mask, [multiples])\n",
    "cropped_indexes = tf.boolean_mask(all_indices, full_mask)\n"
   ]
  },
  {
   "cell_type": "code",
   "execution_count": 49,
   "metadata": {},
   "outputs": [
    {
     "data": {
      "text/plain": [
       "(1, 256, 232, 48)"
      ]
     },
     "execution_count": 49,
     "metadata": {},
     "output_type": "execute_result"
    }
   ],
   "source": [
    "#needed_indexes = tf.gather(all_indexes, indexes_to_keep, 1)\n",
    "modified_idxs = cropped_indexes[:, :3]\n",
    "selected_maps = tf.cast(tf.reshape(tf.contrib.framework.sort(indexes), (-1,)), \"int64\")\n",
    "repetitions = int(K.int_shape(modified_idxs)[0]/tf.shape(selected_maps)[0])\n",
    "selected_maps = tf.tile(selected_maps, [repetitions])\n",
    "modified_idxs = tf.concat([modified_idxs, tf.expand_dims(selected_maps, -1)], -1)\n",
    "\n",
    "final_maps = tf.gather_nd(unpooled_layer, modified_idxs)\n",
    "final_maps = tf.reshape(final_maps, final_new_shape)\n",
    "final_maps.numpy().shape"
   ]
  },
  {
   "cell_type": "code",
   "execution_count": 99,
   "metadata": {},
   "outputs": [
    {
     "data": {
      "text/plain": [
       "<tf.Tensor 'Shape_10:0' shape=(1,) dtype=int32>"
      ]
     },
     "execution_count": 99,
     "metadata": {},
     "output_type": "execute_result"
    }
   ],
   "source": [
    "tf.shape(final_maps)"
   ]
  },
  {
   "cell_type": "code",
   "execution_count": null,
   "metadata": {},
   "outputs": [],
   "source": []
  },
  {
   "cell_type": "code",
   "execution_count": null,
   "metadata": {},
   "outputs": [],
   "source": []
  },
  {
   "cell_type": "code",
   "execution_count": null,
   "metadata": {},
   "outputs": [],
   "source": []
  },
  {
   "cell_type": "code",
   "execution_count": null,
   "metadata": {},
   "outputs": [],
   "source": []
  },
  {
   "cell_type": "code",
   "execution_count": null,
   "metadata": {},
   "outputs": [],
   "source": []
  },
  {
   "cell_type": "code",
   "execution_count": null,
   "metadata": {},
   "outputs": [],
   "source": []
  },
  {
   "cell_type": "code",
   "execution_count": 50,
   "metadata": {},
   "outputs": [],
   "source": [
    "# safety"
   ]
  },
  {
   "cell_type": "code",
   "execution_count": null,
   "metadata": {},
   "outputs": [],
   "source": [
    "    \"\"\"\n",
    "    # The following piece of code was supposed to be way simpler\n",
    "\n",
    "    selected_maps = tf.expand_dims(argmax[0, :, :, indexes[0][0]], -1)\n",
    "    for map_idx in tf.range(1, K.int_shape(indexes[0])[0]):\n",
    "        selected_maps = tf.concat([selected_maps,\n",
    "                                   tf.expand_dims(argmax[0, :, :, indexes[0][map_idx]], -1)],\n",
    "                                  -1)\n",
    "    selected_maps = tf.expand_dims(selected_maps, 0)\n",
    "    for img_index in tf.range(1, K.int_shape(indexes)[0]):\n",
    "        image_maps = tf.expand_dims(argmax[img_index, :, :, indexes[img_index][0]], -1)\n",
    "\n",
    "        for num_chan in tf.range(1, K.int_shape(indexes[img_index])[0]):\n",
    "            image_maps = tf.concat([image_maps,\n",
    "                                    tf.expand_dims(argmax[img_index, :, :, indexes[img_index][num_chan]],\n",
    "                                                   -1)],\n",
    "                                   axis=2)\n",
    "            image_maps = tf.squeeze(image_maps)\n",
    "        selected_maps = tf.stack([selected_maps,\n",
    "                                  tf.expand_dims(image_maps, 0)],\n",
    "                                 axis=0)\n",
    "    \"\"\"\n",
    "\n",
    "    '''\n",
    "    for img_index, channel_index in enumerate(indexes[1:], 1):\n",
    "        image_maps = argmax[img_index, :, :, indexes[img_index][0]]\n",
    "        for num_chan in range(1, indexes[img_index][0][0]):\n",
    "            image_maps = tf.concat(image_maps, argmax[img_index, :, :, indexes[img_index][num_chan]], axis=3)\n",
    "        selected_maps = tf.concat(selected_maps, image_maps, axis=0)\n",
    "\n",
    "    print(K.int_shape(unpooled_layer), K.int_shape(selected_maps))\n",
    "    unpooled_with_values = unpooled_layer * selected_maps\n",
    "    #unpooled_with_values = unpooled_layer * argmax[:, :, :, :K.int_shape(unpooled_layer)[-1]]\n",
    "    '''\n"
   ]
  },
  {
   "cell_type": "code",
   "execution_count": null,
   "metadata": {},
   "outputs": [],
   "source": []
  },
  {
   "cell_type": "code",
   "execution_count": null,
   "metadata": {},
   "outputs": [],
   "source": []
  },
  {
   "cell_type": "code",
   "execution_count": null,
   "metadata": {},
   "outputs": [],
   "source": []
  },
  {
   "cell_type": "code",
   "execution_count": null,
   "metadata": {},
   "outputs": [],
   "source": []
  },
  {
   "cell_type": "code",
   "execution_count": null,
   "metadata": {},
   "outputs": [],
   "source": []
  },
  {
   "cell_type": "code",
   "execution_count": null,
   "metadata": {},
   "outputs": [],
   "source": []
  },
  {
   "cell_type": "code",
   "execution_count": null,
   "metadata": {},
   "outputs": [],
   "source": []
  },
  {
   "cell_type": "code",
   "execution_count": null,
   "metadata": {},
   "outputs": [],
   "source": []
  },
  {
   "cell_type": "code",
   "execution_count": null,
   "metadata": {},
   "outputs": [],
   "source": []
  },
  {
   "cell_type": "code",
   "execution_count": null,
   "metadata": {},
   "outputs": [],
   "source": []
  },
  {
   "cell_type": "code",
   "execution_count": null,
   "metadata": {},
   "outputs": [],
   "source": []
  },
  {
   "cell_type": "code",
   "execution_count": null,
   "metadata": {},
   "outputs": [],
   "source": [
    "inputs = layers.Input(shape=(10, 10, 1))\n",
    "conv1 = layers.Conv2D(64, kernel_size=5, padding='same', kernel_initializer='he_normal', activation='relu')(inputs)\n",
    "conv2 = layers.Conv2D(64, kernel_size=5, padding='same', kernel_initializer='he_normal', activation='relu')(conv1)\n",
    "output, switches = custom_layers.MaxPoolingWithArgmax2D(pool_size=(2, 2))(conv2)\n",
    "custom_layers.unpooling2D(output, argmax=switches)"
   ]
  },
  {
   "cell_type": "code",
   "execution_count": null,
   "metadata": {},
   "outputs": [],
   "source": [
    "t1 = [[1, 0, 3], [4, 0, 6]]\n",
    "t2 = [[7, 8, 9], [0, 0, 0]]\n",
    "t3 = tf.concat([t1, t2], 0)\n",
    "\n",
    "t4 = [[0, 0, 11, 0], [0, 9, 0, 0], [18, 0, 0, 0], [0, 0, 10, 0]]\n",
    "\n",
    "zero = tf.constant(0, dtype=tf.int32)\n",
    "argmax = tf.not_equal(t4, zero)\n",
    "argmax = tf.where(argmax)\n",
    "\n",
    "print(K.eval(argmax))\n",
    "\n",
    "argmax_np = K.eval(argmax)\n",
    "ind = np.lexsort([argmax_np[:, 0], argmax_np[:, 1]])\n",
    "argmax_np[ind]"
   ]
  },
  {
   "cell_type": "code",
   "execution_count": 22,
   "metadata": {
    "collapsed": true
   },
   "outputs": [
    {
     "name": "stdout",
     "output_type": "stream",
     "text": [
      "(4, 4)\n",
      "[[[[11  9]\n",
      "   [11  9]\n",
      "   [11  9]\n",
      "   [11  9]]\n",
      "\n",
      "  [[11  9]\n",
      "   [11  9]\n",
      "   [11  9]\n",
      "   [11  9]]\n",
      "\n",
      "  [[18 10]\n",
      "   [18 10]\n",
      "   [18 10]\n",
      "   [18 10]]\n",
      "\n",
      "  [[18 10]\n",
      "   [18 10]\n",
      "   [18 10]\n",
      "   [18 10]]]]\n"
     ]
    },
    {
     "data": {
      "text/plain": [
       "array([[ 0,  0, 11,  0],\n",
       "       [ 0,  9,  0,  0],\n",
       "       [18,  0,  0,  0],\n",
       "       [ 0,  0, 18,  0]])"
      ]
     },
     "execution_count": 22,
     "metadata": {},
     "output_type": "execute_result"
    }
   ],
   "source": [
    "t4 = tf.Variable([[0, 0, 11, 0], [0, 9, 0, 0], [18, 0, 0, 0], [0, 0, 10, 0]], dtype=tf.int64)\n",
    "pooled = tf.Variable(np.expand_dims(np.array([[[11, 9], [18, 10]]]), 2))\n",
    "print(K.int_shape(t4))\n",
    "out = K.resize_images(pooled, 2, 2, \"channels_last\")\n",
    "\n",
    "out = tf.image.resize_images(\n",
    "    pooled,\n",
    "    (4, 4),\n",
    "    method=tf.image.ResizeMethod.NEAREST_NEIGHBOR\n",
    ")\n",
    "print(K.eval(out))\n",
    "#np_im = tf.reshape(K.eval(out), (4, 4))\n",
    "\n",
    "zero = tf.constant(0, dtype=tf.int64)\n",
    "argmax = tf.not_equal(t4, zero)\n",
    "argmax_mask = tf.cast(argmax, tf.int64)\n",
    "\n",
    "final = np_im * argmax_mask\n",
    "K.eval(final)"
   ]
  },
  {
   "cell_type": "code",
   "execution_count": 3,
   "metadata": {},
   "outputs": [
    {
     "data": {
      "text/plain": [
       "[None]"
      ]
     },
     "execution_count": 3,
     "metadata": {},
     "output_type": "execute_result"
    }
   ],
   "source": [
    "pre = tf.Variable([[0, 0, 11, 0], \n",
    "             [0, 9, 0, 0], \n",
    "             [18, 0, 0, 0], \n",
    "             [0, 0, 10, 0]], dtype=tf.int64)\n",
    "K.gradients(tf.Variable(np.array([[11, 9], \n",
    "                                    [18, 10]])), pre)\n",
    "\n"
   ]
  },
  {
   "cell_type": "code",
   "execution_count": 25,
   "metadata": {},
   "outputs": [
    {
     "data": {
      "text/plain": [
       "array([[[[11,  9],\n",
       "         [ 0,  0]],\n",
       "\n",
       "        [[ 0,  0],\n",
       "         [ 0,  0]],\n",
       "\n",
       "        [[18, 10],\n",
       "         [ 0,  0]],\n",
       "\n",
       "        [[ 0,  0],\n",
       "         [ 0,  0]]]])"
      ]
     },
     "execution_count": 25,
     "metadata": {},
     "output_type": "execute_result"
    }
   ],
   "source": [
    "sh = pooled.get_shape().as_list()\n",
    "dim = len(sh[1:-1])\n",
    "out = (tf.reshape(pooled, [-1] + sh[-dim:]))\n",
    "for i in range(dim, 0, -1):\n",
    "    out = tf.concat([out, tf.zeros_like(out)], i)\n",
    "out_size = [-1] + [s * 2 for s in sh[1:-1]] + [sh[-1]]\n",
    "out = tf.reshape(out, out_size)\n",
    "K.eval(out)"
   ]
  },
  {
   "cell_type": "code",
   "execution_count": null,
   "metadata": {},
   "outputs": [],
   "source": [
    "#_, rows, columns, channels = K.int_shape(t4)\n",
    "%timeit\n",
    "_input = tf.Variable(np.random.rand(240, 240))\n",
    "print(K.eval(_input))\n",
    "rows, columns = K.int_shape(_input)\n",
    "poolsize = [2, 2]\n",
    "ordered_indices = None\n",
    "for chan in range(1):\n",
    "    for i in range(0, rows, poolsize[0]):\n",
    "        for j in range(0, columns, poolsize[1]):\n",
    "            pool_section = _input[i:i + poolsize[0], j:j + poolsize[1]]\n",
    "            #pool_section = tf.one_hot(pool_section, axis = 0)\n",
    "\n",
    "            flat_argmax = tf.cast(tf.argmax(K.flatten(pool_section)), tf.int32)\n",
    "\n",
    "            # convert indexes into 2D coordinates\n",
    "            argmax_row = flat_argmax // tf.shape(pool_section)[1] + i\n",
    "            argmax_col = flat_argmax % tf.shape(pool_section)[1] + j\n",
    "            \n",
    "            # stack and return 2D coordinates\n",
    "            argmax = tf.Variable([tf.stack([argmax_row, argmax_col], axis=0)])\n",
    "            \n",
    "            if ordered_indices is None:\n",
    "                ordered_indices = argmax\n",
    "            else:\n",
    "                ordered_indices = K.concatenate([ordered_indices, argmax], axis=0)\n",
    "\n",
    "K.eval(ordered_indices)"
   ]
  },
  {
   "cell_type": "code",
   "execution_count": null,
   "metadata": {},
   "outputs": [],
   "source": [
    "np_data = np.asanyarray(t4)"
   ]
  },
  {
   "cell_type": "code",
   "execution_count": null,
   "metadata": {},
   "outputs": [],
   "source": [
    "np_data.shape"
   ]
  },
  {
   "cell_type": "code",
   "execution_count": null,
   "metadata": {},
   "outputs": [],
   "source": [
    "np_data"
   ]
  },
  {
   "cell_type": "code",
   "execution_count": null,
   "metadata": {},
   "outputs": [],
   "source": [
    "from numpy.lib.stride_tricks import as_strided"
   ]
  },
  {
   "cell_type": "code",
   "execution_count": null,
   "metadata": {},
   "outputs": [],
   "source": [
    "\n",
    "arr_in = np.ascontiguousarray(np_data)\n",
    "block_shape = np.array((2,2))\n",
    "new_shape = tuple(np.array(np_data.shape) // block_shape) + tuple(block_shape)\n",
    "new_strides = tuple(np_data.strides * block_shape) + np_data.strides\n",
    "\n",
    "arr_out = as_strided(arr_in, shape=new_shape, strides=new_strides)"
   ]
  },
  {
   "cell_type": "code",
   "execution_count": null,
   "metadata": {},
   "outputs": [],
   "source": [
    "arr_out"
   ]
  },
  {
   "cell_type": "code",
   "execution_count": null,
   "metadata": {},
   "outputs": [],
   "source": [
    "arr_out[0, :, :, :]"
   ]
  },
  {
   "cell_type": "code",
   "execution_count": null,
   "metadata": {},
   "outputs": [],
   "source": [
    "np.cumprod([2, 2, 2])"
   ]
  },
  {
   "cell_type": "code",
   "execution_count": null,
   "metadata": {},
   "outputs": [],
   "source": [
    "reshape_to = list(arr_out.shape)\n",
    "reshape_to[-1], reshape_to[-2] = np.cumprod(block_shape)[-1], 1\n",
    "print(\"   \",reshape_to)\n",
    "reshaped = np.reshape(arr_out, reshape_to)\n",
    "argmax = np.argmax(reshaped, axis=2)"
   ]
  },
  {
   "cell_type": "code",
   "execution_count": null,
   "metadata": {},
   "outputs": [],
   "source": [
    "#argmax_row = np.argmax(arr_out, axis=2) + np.mgrid[0:4:2, 0:4:2][0]"
   ]
  },
  {
   "cell_type": "code",
   "execution_count": null,
   "metadata": {},
   "outputs": [],
   "source": [
    "#argmax_col = np.argmax(arr_out, axis=3) + np.mgrid[0:4:2, 0:4:2][1]"
   ]
  },
  {
   "cell_type": "code",
   "execution_count": null,
   "metadata": {},
   "outputs": [],
   "source": [
    "#print(argmax_row, \"\\n -------- \\n\" ,argmax_col)"
   ]
  },
  {
   "cell_type": "code",
   "execution_count": null,
   "metadata": {},
   "outputs": [],
   "source": [
    "argmax"
   ]
  },
  {
   "cell_type": "code",
   "execution_count": null,
   "metadata": {},
   "outputs": [],
   "source": [
    "argmax_row = argmax // block_shape[1] \n",
    "argmax_col = argmax % block_shape[1]"
   ]
  },
  {
   "cell_type": "code",
   "execution_count": null,
   "metadata": {},
   "outputs": [],
   "source": [
    "print(argmax_row, \"\\n -------- \\n\" ,argmax_col)"
   ]
  },
  {
   "cell_type": "code",
   "execution_count": null,
   "metadata": {},
   "outputs": [],
   "source": [
    "section_indexes = np.concatenate([np.expand_dims(np.ravel(argmax_row), 1), \n",
    "                                  np.expand_dims(np.ravel(argmax_col), 1)], axis=1)"
   ]
  },
  {
   "cell_type": "code",
   "execution_count": null,
   "metadata": {},
   "outputs": [],
   "source": [
    "section_indexes"
   ]
  },
  {
   "cell_type": "code",
   "execution_count": null,
   "metadata": {},
   "outputs": [],
   "source": [
    "section_indexes.shape"
   ]
  },
  {
   "cell_type": "code",
   "execution_count": null,
   "metadata": {},
   "outputs": [],
   "source": [
    "np.tile(np.arange(0, 4, 2), 2)"
   ]
  },
  {
   "cell_type": "code",
   "execution_count": null,
   "metadata": {},
   "outputs": [],
   "source": [
    "poolsize = block_shape\n",
    "section_indexes[:, 0] += np.repeat(np.arange(0, \n",
    "                                             np_data.shape[0],\n",
    "                                             poolsize[0]), np_data.shape[0] // poolsize[0])\n",
    "section_indexes[:, 1] += np.tile(np.arange(0, \n",
    "                                           np_data.shape[1], \n",
    "                                           poolsize[1]), np_data.shape[1] // poolsize[1])"
   ]
  },
  {
   "cell_type": "code",
   "execution_count": null,
   "metadata": {},
   "outputs": [],
   "source": [
    "section_indexes"
   ]
  },
  {
   "cell_type": "code",
   "execution_count": null,
   "metadata": {},
   "outputs": [],
   "source": [
    "np_data.shape[0] // poolsize[0]"
   ]
  },
  {
   "cell_type": "code",
   "execution_count": null,
   "metadata": {},
   "outputs": [],
   "source": [
    "argmax_row = argmax_row + _mgrid[0]"
   ]
  },
  {
   "cell_type": "code",
   "execution_count": null,
   "metadata": {},
   "outputs": [],
   "source": [
    "argmax_col = argmax_col + _mgrid[1]"
   ]
  },
  {
   "cell_type": "code",
   "execution_count": null,
   "metadata": {},
   "outputs": [],
   "source": []
  },
  {
   "cell_type": "code",
   "execution_count": null,
   "metadata": {},
   "outputs": [],
   "source": [
    "for i in range(reshaped.shape[0]):\n",
    "    for j in range(reshaped.shape[1]):\n",
    "        argmax_row = reshaped // block_shape[1] + i\n",
    "        argmax_col = reshaped % block_shape[1] + j"
   ]
  },
  {
   "cell_type": "code",
   "execution_count": null,
   "metadata": {},
   "outputs": [],
   "source": [
    "import skimage"
   ]
  },
  {
   "cell_type": "code",
   "execution_count": null,
   "metadata": {},
   "outputs": [],
   "source": [
    "output_rows = skimage.measure.block_reduce(np_data, (2,2), np.argmax, axis=1)\n",
    "output_cols = skimage.measure.block_reduce(np_data, (2,2), np.argmax, axis=2)"
   ]
  },
  {
   "cell_type": "code",
   "execution_count": null,
   "metadata": {},
   "outputs": [],
   "source": [
    "output_rows"
   ]
  },
  {
   "cell_type": "code",
   "execution_count": null,
   "metadata": {},
   "outputs": [],
   "source": [
    "output_cols"
   ]
  },
  {
   "cell_type": "code",
   "execution_count": null,
   "metadata": {
    "scrolled": true
   },
   "outputs": [],
   "source": [
    "switches_by_channel = []\n",
    "all_input_data = np.random.rand(240, 240, 3)\n",
    "for chan in range(all_input_data.shape[-1]):\n",
    "    input_data = all_input_data[:, :, chan]\n",
    "    poolsize = np.array((2, 2))\n",
    "    arr_in = np.ascontiguousarray(input_data)\n",
    "    new_shape = tuple(np.array(input_data.shape) // poolsize) + tuple(poolsize)\n",
    "    new_strides = tuple(input_data.strides * poolsize) + input_data.strides\n",
    "\n",
    "    arr_out = as_strided(arr_in, shape=new_shape, strides=new_strides)\n",
    "    reshape_to = list(arr_out.shape)\n",
    "    reshape_to[-1], reshape_to[-2] = np.cumprod(poolsize)[-1], 1\n",
    "    reshaped = np.reshape(arr_out, reshape_to)\n",
    "    argmax = np.argmax(reshaped, axis=3)\n",
    "    argmax_row = argmax // poolsize[1]\n",
    "    argmax_row = argmax % poolsize[1]\n",
    "    section_indexes = np.concatenate([np.expand_dims(np.ravel(argmax_row), 1),\n",
    "                                      np.expand_dims(np.ravel(argmax_col), 1)], axis=1)\n",
    "\n",
    "    section_indexes[:, 0] += np.repeat(np.arange(0,\n",
    "                                                 input_data.shape[0],\n",
    "                                                 poolsize[0]),\n",
    "                                       input_data.shape[0] // poolsize[0])\n",
    "\n",
    "    section_indexes[:, 1] += np.tile(np.arange(0,\n",
    "                                               input_data.shape[1],\n",
    "                                               poolsize[1]),\n",
    "                                     input_data.shape[1] // poolsize[1])\n",
    "    switches_by_channel.append(section_indexes)"
   ]
  },
  {
   "cell_type": "code",
   "execution_count": null,
   "metadata": {},
   "outputs": [],
   "source": [
    "section_indexes"
   ]
  },
  {
   "cell_type": "code",
   "execution_count": null,
   "metadata": {},
   "outputs": [],
   "source": [
    "np.random.rand(240, 240, 3)"
   ]
  },
  {
   "cell_type": "code",
   "execution_count": null,
   "metadata": {},
   "outputs": [],
   "source": [
    "np.arange(0, argmax.shape[1], poolsize[1]) "
   ]
  },
  {
   "cell_type": "code",
   "execution_count": null,
   "metadata": {},
   "outputs": [],
   "source": [
    "len(np.repeat(np.arange(0,\n",
    "                                             argmax.shape[0],\n",
    "                                             poolsize[0]),\n",
    "                                   argmax.shape[0] // poolsize[0]))"
   ]
  },
  {
   "cell_type": "code",
   "execution_count": null,
   "metadata": {},
   "outputs": [],
   "source": [
    "len(np.tile(np.arange(0,\n",
    "                                           argmax.shape[1],\n",
    "                                           poolsize[1]),\n",
    "                                 argmax.shape[1] // poolsize[1]))"
   ]
  },
  {
   "cell_type": "code",
   "execution_count": null,
   "metadata": {},
   "outputs": [],
   "source": [
    "120**2/4"
   ]
  },
  {
   "cell_type": "code",
   "execution_count": null,
   "metadata": {},
   "outputs": [],
   "source": [
    "len(section_indexes)"
   ]
  },
  {
   "cell_type": "code",
   "execution_count": null,
   "metadata": {},
   "outputs": [],
   "source": [
    "240**2//4"
   ]
  },
  {
   "cell_type": "markdown",
   "metadata": {},
   "source": [
    "## Mid speed"
   ]
  },
  {
   "cell_type": "code",
   "execution_count": null,
   "metadata": {},
   "outputs": [],
   "source": []
  },
  {
   "cell_type": "code",
   "execution_count": null,
   "metadata": {},
   "outputs": [],
   "source": []
  },
  {
   "cell_type": "code",
   "execution_count": 7,
   "metadata": {},
   "outputs": [
    {
     "ename": "TypeError",
     "evalue": "repeat() got an unexpected keyword argument 'axis'",
     "output_type": "error",
     "traceback": [
      "\u001b[0;31m---------------------------------------------------------------------------\u001b[0m",
      "\u001b[0;31mTypeError\u001b[0m                                 Traceback (most recent call last)",
      "\u001b[0;32m<ipython-input-7-255cccb10b15>\u001b[0m in \u001b[0;36m<module>\u001b[0;34m\u001b[0m\n\u001b[1;32m      7\u001b[0m pooled = tf.Variable(np.array([[9, 11],\n\u001b[1;32m      8\u001b[0m                               [18, 10]]))\n\u001b[0;32m----> 9\u001b[0;31m \u001b[0mK\u001b[0m\u001b[0;34m.\u001b[0m\u001b[0meval\u001b[0m\u001b[0;34m(\u001b[0m\u001b[0mK\u001b[0m\u001b[0;34m.\u001b[0m\u001b[0mrepeat\u001b[0m\u001b[0;34m(\u001b[0m\u001b[0mK\u001b[0m\u001b[0;34m.\u001b[0m\u001b[0mreshape\u001b[0m\u001b[0;34m(\u001b[0m\u001b[0mK\u001b[0m\u001b[0;34m.\u001b[0m\u001b[0mrepeat\u001b[0m\u001b[0;34m(\u001b[0m\u001b[0mpooled\u001b[0m\u001b[0;34m,\u001b[0m \u001b[0;36m2\u001b[0m\u001b[0;34m)\u001b[0m\u001b[0;34m,\u001b[0m \u001b[0;34m(\u001b[0m\u001b[0;36m4\u001b[0m\u001b[0;34m,\u001b[0m \u001b[0;36m2\u001b[0m\u001b[0;34m)\u001b[0m\u001b[0;34m)\u001b[0m\u001b[0;34m,\u001b[0m \u001b[0;36m2\u001b[0m\u001b[0;34m,\u001b[0m \u001b[0maxis\u001b[0m\u001b[0;34m=\u001b[0m\u001b[0;36m1\u001b[0m\u001b[0;34m)\u001b[0m\u001b[0;34m)\u001b[0m\u001b[0;34m\u001b[0m\u001b[0m\n\u001b[0m",
      "\u001b[0;31mTypeError\u001b[0m: repeat() got an unexpected keyword argument 'axis'"
     ]
    }
   ],
   "source": [
    "input_data = tf.Variable(np.array([[0, 0, 11, 0], \n",
    "                                   [0, 9, 0, 0], \n",
    "                                   [18, 0, 0, 0], \n",
    "                                   [0, 0, 10, 0]]))\n",
    "\n",
    "#input_data = tf.Variable(np.arange(100**2).reshape(100, 100))\n",
    "pooled = tf.Variable(np.array([[9, 11],\n",
    "                              [18, 10]]))\n",
    "K.eval(K.repeat(K.reshape(K.repeat(pooled, 2), (4, 2)), 2, axis=1))"
   ]
  },
  {
   "cell_type": "code",
   "execution_count": 21,
   "metadata": {},
   "outputs": [],
   "source": [
    "input_data2 = tf.Variable(np.array([[0, 0, 2, 0, 3, 0, 0, 0], \n",
    "                                    [0, 1, 0, 0, 0, 0, 4, 0], \n",
    "                                    [5, 0, 0, 0, 0, 0, 9, 0], \n",
    "                                    [0, 0, 6, 0, 7, 8, 0, 0],\n",
    "                                    [0, 10, 0, 0, 0, 0, 13, 0],\n",
    "                                    [0, 0, 11, 0, 0, 12, 0, 0],\n",
    "                                    [0, 0, 10, 0, 0, 0, 11, 0],\n",
    "                                    [0, 0, 10, 0, 0, 0, 11, 0]]))\n",
    "\n",
    "pooled2 = tf.Variable(np.array([[1, 2, 3, 4], \n",
    "                               [5, 6, 7, 8], \n",
    "                               [9, 10, 11, 12], \n",
    "                               [13, 14, 15, 16]]))"
   ]
  },
  {
   "cell_type": "code",
   "execution_count": 22,
   "metadata": {},
   "outputs": [
    {
     "data": {
      "text/plain": [
       "array([[ 1,  1,  2,  2,  3,  3,  4,  4],\n",
       "       [ 1,  1,  2,  2,  3,  3,  4,  4],\n",
       "       [ 5,  5,  6,  6,  7,  7,  8,  8],\n",
       "       [ 5,  5,  6,  6,  7,  7,  8,  8],\n",
       "       [ 9,  9, 10, 10, 11, 11, 12, 12],\n",
       "       [ 9,  9, 10, 10, 11, 11, 12, 12],\n",
       "       [13, 13, 14, 14, 15, 15, 16, 16],\n",
       "       [13, 13, 14, 14, 15, 15, 16, 16]])"
      ]
     },
     "execution_count": 22,
     "metadata": {},
     "output_type": "execute_result"
    }
   ],
   "source": [
    "pooled3 = K.repeat_elements(K.repeat_elements(pooled2, 2, axis=0), 2, axis=1)\n",
    "K.eval(pooled3)"
   ]
  },
  {
   "cell_type": "code",
   "execution_count": 39,
   "metadata": {},
   "outputs": [
    {
     "name": "stdout",
     "output_type": "stream",
     "text": [
      "(1, 4, 4, 1)\n"
     ]
    },
    {
     "data": {
      "text/plain": [
       "array([[ 1,  1,  2,  2,  3,  3,  4,  4],\n",
       "       [ 1,  1,  2,  2,  3,  3,  4,  4],\n",
       "       [ 5,  5,  6,  6,  7,  7,  8,  8],\n",
       "       [ 5,  5,  6,  6,  7,  7,  8,  8],\n",
       "       [ 9,  9, 10, 10, 11, 11, 12, 12],\n",
       "       [ 9,  9, 10, 10, 11, 11, 12, 12],\n",
       "       [13, 13, 14, 14, 15, 15, 16, 16],\n",
       "       [13, 13, 14, 14, 15, 15, 16, 16]])"
      ]
     },
     "execution_count": 39,
     "metadata": {},
     "output_type": "execute_result"
    }
   ],
   "source": [
    "test4 = np.expand_dims(np.array([[1, 2, 3, 4], \n",
    "                               [5, 6, 7, 8], \n",
    "                               [9, 10, 11, 12], \n",
    "                               [13, 14, 15, 16]]), 0)\n",
    "print(np.expand_dims(test4, 3).shape)\n",
    "test4 = tf.Variable(np.expand_dims(test4, 3))\n",
    "test4 = K.resize_images(test4, 2, 2, \"channels_last\")\n",
    "K.eval(K.reshape(test4, (8, 8)))"
   ]
  },
  {
   "cell_type": "code",
   "execution_count": null,
   "metadata": {},
   "outputs": [],
   "source": [
    "K.eval(K.repeat(tf.Variable(np.array([[ 9, 11]])), 2))"
   ]
  },
  {
   "cell_type": "code",
   "execution_count": null,
   "metadata": {},
   "outputs": [],
   "source": [
    "mask = tf.cast(tf.not_equal(input_data, tf.constant(0, dtype=tf.int64)), tf.int64)\n",
    "K.eval(mask)"
   ]
  },
  {
   "cell_type": "code",
   "execution_count": null,
   "metadata": {},
   "outputs": [],
   "source": [
    "pool_size = tf.Variable([2, 2])"
   ]
  },
  {
   "cell_type": "code",
   "execution_count": 4,
   "metadata": {},
   "outputs": [
    {
     "name": "stdout",
     "output_type": "stream",
     "text": [
      "CPU times: user 0 ns, sys: 0 ns, total: 0 ns\n",
      "Wall time: 11.2 µs\n"
     ]
    },
    {
     "ename": "NameError",
     "evalue": "name 'input_data' is not defined",
     "output_type": "error",
     "traceback": [
      "\u001b[0;31m---------------------------------------------------------------------------\u001b[0m",
      "\u001b[0;31mNameError\u001b[0m                                 Traceback (most recent call last)",
      "\u001b[0;32m<ipython-input-4-61972cf0c2d7>\u001b[0m in \u001b[0;36m<module>\u001b[0;34m\u001b[0m\n\u001b[1;32m      1\u001b[0m \u001b[0mget_ipython\u001b[0m\u001b[0;34m(\u001b[0m\u001b[0;34m)\u001b[0m\u001b[0;34m.\u001b[0m\u001b[0mrun_line_magic\u001b[0m\u001b[0;34m(\u001b[0m\u001b[0;34m'time'\u001b[0m\u001b[0;34m,\u001b[0m \u001b[0;34m''\u001b[0m\u001b[0;34m)\u001b[0m\u001b[0;34m\u001b[0m\u001b[0m\n\u001b[0;32m----> 2\u001b[0;31m \u001b[0mdata_blocks_rows\u001b[0m \u001b[0;34m=\u001b[0m \u001b[0mtf\u001b[0m\u001b[0;34m.\u001b[0m\u001b[0msplit\u001b[0m\u001b[0;34m(\u001b[0m\u001b[0minput_data\u001b[0m\u001b[0;34m,\u001b[0m \u001b[0mK\u001b[0m\u001b[0;34m.\u001b[0m\u001b[0mint_shape\u001b[0m\u001b[0;34m(\u001b[0m\u001b[0minput_data\u001b[0m\u001b[0;34m)\u001b[0m\u001b[0;34m[\u001b[0m\u001b[0;36m0\u001b[0m\u001b[0;34m]\u001b[0m\u001b[0;34m//\u001b[0m\u001b[0mpool_size\u001b[0m\u001b[0;34m[\u001b[0m\u001b[0;36m0\u001b[0m\u001b[0;34m]\u001b[0m\u001b[0;34m,\u001b[0m \u001b[0;36m0\u001b[0m\u001b[0;34m)\u001b[0m\u001b[0;34m\u001b[0m\u001b[0m\n\u001b[0m\u001b[1;32m      3\u001b[0m data_blocks = [tf.split(block, \n\u001b[1;32m      4\u001b[0m                         \u001b[0mK\u001b[0m\u001b[0;34m.\u001b[0m\u001b[0mint_shape\u001b[0m\u001b[0;34m(\u001b[0m\u001b[0minput_data\u001b[0m\u001b[0;34m)\u001b[0m\u001b[0;34m[\u001b[0m\u001b[0;36m1\u001b[0m\u001b[0;34m]\u001b[0m\u001b[0;34m//\u001b[0m\u001b[0mpool_size\u001b[0m\u001b[0;34m[\u001b[0m\u001b[0;36m1\u001b[0m\u001b[0;34m]\u001b[0m\u001b[0;34m,\u001b[0m\u001b[0;34m\u001b[0m\u001b[0m\n\u001b[1;32m      5\u001b[0m                         1) for block in data_blocks_rows]\n",
      "\u001b[0;31mNameError\u001b[0m: name 'input_data' is not defined"
     ]
    }
   ],
   "source": [
    "%time\n",
    "data_blocks_rows = tf.split(input_data, K.int_shape(input_data)[0]//pool_size[0], 0)\n",
    "data_blocks = [tf.split(block, \n",
    "                        K.int_shape(input_data)[1]//pool_size[1],\n",
    "                        1) for block in data_blocks_rows]\n",
    "\n",
    "ordered_indices = None\n",
    "for i, row in enumerate(data_blocks):\n",
    "    for j, block in enumerate(row):\n",
    "        flat_argmax = tf.cast(tf.argmax(K.flatten(block)), tf.int32)\n",
    "\n",
    "        # convert indexes into 2D coordinates\n",
    "        argmax_row = (flat_argmax // tf.shape(block)[1]) + (i*2)\n",
    "        argmax_col = (flat_argmax % tf.shape(block)[1]) + (j*2)\n",
    "        # stack and return 2D coordinates\n",
    "        argmax = tf.Variable([tf.stack([argmax_row, argmax_col], axis=0)])\n",
    "\n",
    "        if ordered_indices is None:\n",
    "            ordered_indices = argmax\n",
    "        else:\n",
    "            ordered_indices = K.concatenate([ordered_indices, argmax], axis=0)\n"
   ]
  },
  {
   "cell_type": "code",
   "execution_count": 5,
   "metadata": {},
   "outputs": [
    {
     "ename": "NameError",
     "evalue": "name 'ordered_indices' is not defined",
     "output_type": "error",
     "traceback": [
      "\u001b[0;31m---------------------------------------------------------------------------\u001b[0m",
      "\u001b[0;31mNameError\u001b[0m                                 Traceback (most recent call last)",
      "\u001b[0;32m<ipython-input-5-d0b6374c4913>\u001b[0m in \u001b[0;36m<module>\u001b[0;34m\u001b[0m\n\u001b[0;32m----> 1\u001b[0;31m \u001b[0mK\u001b[0m\u001b[0;34m.\u001b[0m\u001b[0meval\u001b[0m\u001b[0;34m(\u001b[0m\u001b[0mordered_indices\u001b[0m\u001b[0;34m)\u001b[0m\u001b[0;34m\u001b[0m\u001b[0m\n\u001b[0m",
      "\u001b[0;31mNameError\u001b[0m: name 'ordered_indices' is not defined"
     ]
    }
   ],
   "source": [
    "K.eval(ordered_indices)"
   ]
  },
  {
   "cell_type": "code",
   "execution_count": 123,
   "metadata": {},
   "outputs": [],
   "source": [
    "test_tensor = tf.Variable(np.array([[[[1, 2, 100, 4], [1, 2, 100, 4], [1, 2, 100, 4], [1, 2, 3, 4]], \n",
    "                               [[5, 6, 7, 8], [5, 6, 7, 8], [5, 6, 100, 8], [5, 6, 100, 8]], \n",
    "                               [[9, 10, 11, 12], [5, 6, 7, 8], [5, 6, 7, 8], [5, 6, 7, 8]], \n",
    "                               [[13, 14, 15, 16], [13, 14, 15, 16], [13, 14, 15, 16], [13, 14, 15, 16]]], \n",
    "                                    [[[1, 2, 3, 4], [1, 2, 3, 4], [1, 2, 3, 4], [1, 2, 3, 4]], \n",
    "                               [[5, 6, 7, 8], [5, 6, 7, 8], [5, 6, 7, 8], [5, 6, 7, 8]], \n",
    "                               [[9, 10, 11, 12], [9, 10, 11, 12], [9, 10, 11, 12], [9, 10, 11, 12]], \n",
    "                               [[13, 14, 15, 16], [13, 14, 15, 16], [13, 14, 15, 16], [13, 14, 15, 16]]]]))"
   ]
  },
  {
   "cell_type": "code",
   "execution_count": 124,
   "metadata": {
    "collapsed": true
   },
   "outputs": [
    {
     "data": {
      "text/plain": [
       "array([[[[  1,   2, 100,   4],\n",
       "         [  1,   2, 100,   4],\n",
       "         [  1,   2, 100,   4],\n",
       "         [  1,   2,   3,   4]],\n",
       "\n",
       "        [[  5,   6,   7,   8],\n",
       "         [  5,   6,   7,   8],\n",
       "         [  5,   6, 100,   8],\n",
       "         [  5,   6, 100,   8]],\n",
       "\n",
       "        [[  9,  10,  11,  12],\n",
       "         [  5,   6,   7,   8],\n",
       "         [  5,   6,   7,   8],\n",
       "         [  5,   6,   7,   8]],\n",
       "\n",
       "        [[ 13,  14,  15,  16],\n",
       "         [ 13,  14,  15,  16],\n",
       "         [ 13,  14,  15,  16],\n",
       "         [ 13,  14,  15,  16]]],\n",
       "\n",
       "\n",
       "       [[[  1,   2,   3,   4],\n",
       "         [  1,   2,   3,   4],\n",
       "         [  1,   2,   3,   4],\n",
       "         [  1,   2,   3,   4]],\n",
       "\n",
       "        [[  5,   6,   7,   8],\n",
       "         [  5,   6,   7,   8],\n",
       "         [  5,   6,   7,   8],\n",
       "         [  5,   6,   7,   8]],\n",
       "\n",
       "        [[  9,  10,  11,  12],\n",
       "         [  9,  10,  11,  12],\n",
       "         [  9,  10,  11,  12],\n",
       "         [  9,  10,  11,  12]],\n",
       "\n",
       "        [[ 13,  14,  15,  16],\n",
       "         [ 13,  14,  15,  16],\n",
       "         [ 13,  14,  15,  16],\n",
       "         [ 13,  14,  15,  16]]]])"
      ]
     },
     "execution_count": 124,
     "metadata": {},
     "output_type": "execute_result"
    }
   ],
   "source": [
    "K.eval(test_tensor)"
   ]
  },
  {
   "cell_type": "code",
   "execution_count": 125,
   "metadata": {},
   "outputs": [
    {
     "data": {
      "text/plain": [
       "(2, 4, 4, 4)"
      ]
     },
     "execution_count": 125,
     "metadata": {},
     "output_type": "execute_result"
    }
   ],
   "source": [
    "K.int_shape(test_tensor)"
   ]
  },
  {
   "cell_type": "code",
   "execution_count": 126,
   "metadata": {},
   "outputs": [],
   "source": [
    "argmax_copy = tf.identity(test_tensor)\n",
    "for i in range(2):\n",
    "    argmax_copy = tf.reduce_mean(argmax_copy, axis=1)"
   ]
  },
  {
   "cell_type": "code",
   "execution_count": 130,
   "metadata": {},
   "outputs": [
    {
     "data": {
      "text/plain": [
       "array([[ 6,  7, 37,  9],\n",
       "       [ 7,  8,  9, 10]])"
      ]
     },
     "execution_count": 130,
     "metadata": {},
     "output_type": "execute_result"
    }
   ],
   "source": [
    "K.eval(argmax_copy)"
   ]
  },
  {
   "cell_type": "code",
   "execution_count": 128,
   "metadata": {},
   "outputs": [],
   "source": [
    "_, indexes = tf.nn.top_k(argmax_copy, 3)"
   ]
  },
  {
   "cell_type": "code",
   "execution_count": 129,
   "metadata": {},
   "outputs": [
    {
     "data": {
      "text/plain": [
       "array([[2, 3, 1],\n",
       "       [3, 2, 1]], dtype=int32)"
      ]
     },
     "execution_count": 129,
     "metadata": {},
     "output_type": "execute_result"
    }
   ],
   "source": [
    "K.eval(indexes)"
   ]
  },
  {
   "cell_type": "code",
   "execution_count": 16,
   "metadata": {},
   "outputs": [
    {
     "data": {
      "text/plain": [
       "array([[3, 2, 1]], dtype=int32)"
      ]
     },
     "execution_count": 16,
     "metadata": {},
     "output_type": "execute_result"
    }
   ],
   "source": [
    "indexes[1:, :].numpy()"
   ]
  },
  {
   "cell_type": "code",
   "execution_count": 9,
   "metadata": {
    "collapsed": true
   },
   "outputs": [
    {
     "ename": "TypeError",
     "evalue": "Tensor objects are only iterable when eager execution is enabled. To iterate over this tensor use tf.map_fn.",
     "output_type": "error",
     "traceback": [
      "\u001b[0;31m---------------------------------------------------------------------\u001b[0m",
      "\u001b[0;31mTypeError\u001b[0m                           Traceback (most recent call last)",
      "\u001b[0;32m<ipython-input-9-0d25b15fe2d3>\u001b[0m in \u001b[0;36m<module>\u001b[0;34m\u001b[0m\n\u001b[0;32m----> 1\u001b[0;31m \u001b[0;32mfor\u001b[0m \u001b[0mx\u001b[0m\u001b[0;34m,\u001b[0m \u001b[0my\u001b[0m \u001b[0;32min\u001b[0m \u001b[0menumerate\u001b[0m\u001b[0;34m(\u001b[0m\u001b[0mindexes\u001b[0m\u001b[0;34m[\u001b[0m\u001b[0;36m1\u001b[0m\u001b[0;34m:\u001b[0m\u001b[0;34m,\u001b[0m \u001b[0;34m:\u001b[0m\u001b[0;34m]\u001b[0m\u001b[0;34m,\u001b[0m \u001b[0;36m1\u001b[0m\u001b[0;34m)\u001b[0m\u001b[0;34m:\u001b[0m\u001b[0;34m\u001b[0m\u001b[0m\n\u001b[0m\u001b[1;32m      2\u001b[0m     \u001b[0mprint\u001b[0m\u001b[0;34m(\u001b[0m\u001b[0mx\u001b[0m\u001b[0;34m,\u001b[0m \u001b[0my\u001b[0m\u001b[0;34m)\u001b[0m\u001b[0;34m\u001b[0m\u001b[0m\n",
      "\u001b[0;32m~/.local/lib/python3.6/site-packages/tensorflow/python/framework/ops.py\u001b[0m in \u001b[0;36m__iter__\u001b[0;34m(self)\u001b[0m\n\u001b[1;32m    455\u001b[0m     \u001b[0;32mif\u001b[0m \u001b[0;32mnot\u001b[0m \u001b[0mcontext\u001b[0m\u001b[0;34m.\u001b[0m\u001b[0mexecuting_eagerly\u001b[0m\u001b[0;34m(\u001b[0m\u001b[0;34m)\u001b[0m\u001b[0;34m:\u001b[0m\u001b[0;34m\u001b[0m\u001b[0m\n\u001b[1;32m    456\u001b[0m       raise TypeError(\n\u001b[0;32m--> 457\u001b[0;31m           \u001b[0;34m\"Tensor objects are only iterable when eager execution is \"\u001b[0m\u001b[0;34m\u001b[0m\u001b[0m\n\u001b[0m\u001b[1;32m    458\u001b[0m           \"enabled. To iterate over this tensor use tf.map_fn.\")\n\u001b[1;32m    459\u001b[0m     \u001b[0mshape\u001b[0m \u001b[0;34m=\u001b[0m \u001b[0mself\u001b[0m\u001b[0;34m.\u001b[0m\u001b[0m_shape_tuple\u001b[0m\u001b[0;34m(\u001b[0m\u001b[0;34m)\u001b[0m\u001b[0;34m\u001b[0m\u001b[0m\n",
      "\u001b[0;31mTypeError\u001b[0m: Tensor objects are only iterable when eager execution is enabled. To iterate over this tensor use tf.map_fn."
     ]
    }
   ],
   "source": [
    "for x, y in enumerate(indexes[1:, :], 1):\n",
    "    print(x, y)"
   ]
  },
  {
   "cell_type": "code",
   "execution_count": 9,
   "metadata": {},
   "outputs": [
    {
     "name": "stdout",
     "output_type": "stream",
     "text": [
      "1 Tensor(\"strided_slice_1:0\", shape=(3,), dtype=int32)\n"
     ]
    }
   ],
   "source": [
    "for x in range(1, K.int_shape(indexes)[0], 1):\n",
    "    print(x, indexes[x])"
   ]
  },
  {
   "cell_type": "code",
   "execution_count": 13,
   "metadata": {},
   "outputs": [
    {
     "data": {
      "text/plain": [
       "TensorShape([Dimension(2), Dimension(3)])"
      ]
     },
     "execution_count": 13,
     "metadata": {},
     "output_type": "execute_result"
    }
   ],
   "source": [
    "indexes"
   ]
  },
  {
   "cell_type": "code",
   "execution_count": 17,
   "metadata": {
    "collapsed": true
   },
   "outputs": [
    {
     "name": "stdout",
     "output_type": "stream",
     "text": [
      "Image channels:  (4, 4, 2)\n",
      "Image channels:  (4, 4, 3)\n"
     ]
    }
   ],
   "source": [
    "selected_maps = tf.expand_dims(test_tensor[0, :, : ,indexes[0][0]], -1)\n",
    "for map_idx in range(1, K.int_shape(indexes[0])[0]):\n",
    "    selected_maps = tf.concat([selected_maps, \n",
    "                               tf.expand_dims(test_tensor[0, :, : , indexes[0][map_idx]], -1)],\n",
    "                              -1)\n",
    "selected_maps = tf.expand_dims(selected_maps, 0)\n",
    "for img_index in range(1, K.int_shape(indexes)[0]):\n",
    "    image_maps = tf.expand_dims(test_tensor[img_index, :, :, indexes[img_index][0]], -1)\n",
    "    \n",
    "    for num_chan in range(1, K.int_shape(indexes[img_index])[0]):\n",
    "        image_maps = tf.concat([image_maps, \n",
    "                                tf.expand_dims(test_tensor[img_index, :, :, indexes[img_index][num_chan]], -1)], \n",
    "                               axis=2)\n",
    "        image_maps = tf.squeeze(image_maps)\n",
    "        print(\"Image channels: \", K.int_shape(image_maps))\n",
    "    selected_maps = tf.stack([selected_maps, \n",
    "                               tf.expand_dims(image_maps, 0)], axis=0)\n",
    "    selected_maps = tf.squeeze(selected_maps)"
   ]
  },
  {
   "cell_type": "code",
   "execution_count": 16,
   "metadata": {},
   "outputs": [
    {
     "data": {
      "text/plain": [
       "<tf.Tensor 'Where_2:0' shape=(?, 4) dtype=int64>"
      ]
     },
     "execution_count": 16,
     "metadata": {},
     "output_type": "execute_result"
    }
   ],
   "source": [
    "tf.where(test_tensor)"
   ]
  },
  {
   "cell_type": "code",
   "execution_count": null,
   "metadata": {},
   "outputs": [],
   "source": []
  },
  {
   "cell_type": "code",
   "execution_count": null,
   "metadata": {},
   "outputs": [],
   "source": []
  },
  {
   "cell_type": "code",
   "execution_count": 19,
   "metadata": {},
   "outputs": [
    {
     "name": "stdout",
     "output_type": "stream",
     "text": [
      "Image channels:  (4, 4, 2)\n",
      "Image channels:  (4, 4, 3)\n"
     ]
    }
   ],
   "source": [
    "selected_maps = tf.expand_dims(test_tensor[0, :, : ,indexes[0][0]], -1)\n",
    "for map_idx in range(1, K.int_shape(indexes[0])[0]):\n",
    "    selected_maps = tf.concat([selected_maps, \n",
    "                               tf.expand_dims(test_tensor[0, :, : , indexes[0][map_idx]], -1)],\n",
    "                              -1)\n",
    "selected_maps = tf.expand_dims(selected_maps, 0)\n",
    "for img_index in range(1, K.int_shape(indexes)[0]):\n",
    "    image_maps = tf.expand_dims(test_tensor[img_index, :, :, indexes[img_index][0]], -1)\n",
    "    \n",
    "    for num_chan in range(1, K.int_shape(indexes[img_index])[0]):\n",
    "        image_maps = tf.concat([image_maps, \n",
    "                                tf.expand_dims(test_tensor[img_index, :, :, indexes[img_index][num_chan]], -1)], \n",
    "                               axis=2)\n",
    "        image_maps = tf.squeeze(image_maps)\n",
    "        print(\"Image channels: \", K.int_shape(image_maps))\n",
    "    selected_maps = tf.stack([selected_maps, \n",
    "                               tf.expand_dims(image_maps, 0)], axis=0)\n",
    "    selected_maps = tf.squeeze(selected_maps)"
   ]
  },
  {
   "cell_type": "code",
   "execution_count": null,
   "metadata": {},
   "outputs": [],
   "source": []
  },
  {
   "cell_type": "code",
   "execution_count": null,
   "metadata": {},
   "outputs": [],
   "source": []
  },
  {
   "cell_type": "code",
   "execution_count": 72,
   "metadata": {},
   "outputs": [
    {
     "data": {
      "text/plain": [
       "array([128,   4], dtype=int32)"
      ]
     },
     "execution_count": 72,
     "metadata": {},
     "output_type": "execute_result"
    }
   ],
   "source": [
    "all_indices = tf.where(test_tensor)\n",
    "K.eval(tf.shape(all_indices))"
   ]
  },
  {
   "cell_type": "code",
   "execution_count": 109,
   "metadata": {
    "collapsed": true
   },
   "outputs": [
    {
     "data": {
      "text/plain": [
       "array([[0, 0, 0, 0],\n",
       "       [0, 0, 0, 1],\n",
       "       [0, 0, 0, 2],\n",
       "       [0, 0, 1, 0],\n",
       "       [0, 0, 1, 1],\n",
       "       [0, 0, 1, 2],\n",
       "       [0, 0, 2, 0],\n",
       "       [0, 0, 2, 1],\n",
       "       [0, 0, 2, 2],\n",
       "       [0, 0, 3, 0],\n",
       "       [0, 0, 3, 1],\n",
       "       [0, 0, 3, 2],\n",
       "       [0, 1, 0, 0],\n",
       "       [0, 1, 0, 1],\n",
       "       [0, 1, 0, 2],\n",
       "       [0, 1, 1, 0],\n",
       "       [0, 1, 1, 1],\n",
       "       [0, 1, 1, 2],\n",
       "       [0, 1, 2, 0],\n",
       "       [0, 1, 2, 1],\n",
       "       [0, 1, 2, 2],\n",
       "       [0, 1, 3, 0],\n",
       "       [0, 1, 3, 1],\n",
       "       [0, 1, 3, 2],\n",
       "       [0, 2, 0, 0],\n",
       "       [0, 2, 0, 1],\n",
       "       [0, 2, 0, 2],\n",
       "       [0, 2, 1, 0],\n",
       "       [0, 2, 1, 1],\n",
       "       [0, 2, 1, 2],\n",
       "       [0, 2, 2, 0],\n",
       "       [0, 2, 2, 1],\n",
       "       [0, 2, 2, 2],\n",
       "       [0, 2, 3, 0],\n",
       "       [0, 2, 3, 1],\n",
       "       [0, 2, 3, 2],\n",
       "       [0, 3, 0, 0],\n",
       "       [0, 3, 0, 1],\n",
       "       [0, 3, 0, 2],\n",
       "       [0, 3, 1, 0],\n",
       "       [0, 3, 1, 1],\n",
       "       [0, 3, 1, 2],\n",
       "       [0, 3, 2, 0],\n",
       "       [0, 3, 2, 1],\n",
       "       [0, 3, 2, 2],\n",
       "       [0, 3, 3, 0],\n",
       "       [0, 3, 3, 1],\n",
       "       [0, 3, 3, 2],\n",
       "       [1, 0, 0, 0],\n",
       "       [1, 0, 0, 1],\n",
       "       [1, 0, 0, 2],\n",
       "       [1, 0, 1, 0],\n",
       "       [1, 0, 1, 1],\n",
       "       [1, 0, 1, 2],\n",
       "       [1, 0, 2, 0],\n",
       "       [1, 0, 2, 1],\n",
       "       [1, 0, 2, 2],\n",
       "       [1, 0, 3, 0],\n",
       "       [1, 0, 3, 1],\n",
       "       [1, 0, 3, 2],\n",
       "       [1, 1, 0, 0],\n",
       "       [1, 1, 0, 1],\n",
       "       [1, 1, 0, 2],\n",
       "       [1, 1, 1, 0],\n",
       "       [1, 1, 1, 1],\n",
       "       [1, 1, 1, 2],\n",
       "       [1, 1, 2, 0],\n",
       "       [1, 1, 2, 1],\n",
       "       [1, 1, 2, 2],\n",
       "       [1, 1, 3, 0],\n",
       "       [1, 1, 3, 1],\n",
       "       [1, 1, 3, 2],\n",
       "       [1, 2, 0, 0],\n",
       "       [1, 2, 0, 1],\n",
       "       [1, 2, 0, 2],\n",
       "       [1, 2, 1, 0],\n",
       "       [1, 2, 1, 1],\n",
       "       [1, 2, 1, 2],\n",
       "       [1, 2, 2, 0],\n",
       "       [1, 2, 2, 1],\n",
       "       [1, 2, 2, 2],\n",
       "       [1, 2, 3, 0],\n",
       "       [1, 2, 3, 1],\n",
       "       [1, 2, 3, 2],\n",
       "       [1, 3, 0, 0],\n",
       "       [1, 3, 0, 1],\n",
       "       [1, 3, 0, 2],\n",
       "       [1, 3, 1, 0],\n",
       "       [1, 3, 1, 1],\n",
       "       [1, 3, 1, 2],\n",
       "       [1, 3, 2, 0],\n",
       "       [1, 3, 2, 1],\n",
       "       [1, 3, 2, 2],\n",
       "       [1, 3, 3, 0],\n",
       "       [1, 3, 3, 1],\n",
       "       [1, 3, 3, 2]])"
      ]
     },
     "execution_count": 109,
     "metadata": {},
     "output_type": "execute_result"
    }
   ],
   "source": [
    "final_new_shape =  (2, 4, 4, 3)\n",
    "to_take = tf.tile(tf.Variable([True]), tf.Variable([final_new_shape[-1]]))\n",
    "to_leave = tf.tile(tf.Variable([False]), tf.shape(test_tensor)[-1] - tf.Variable([final_new_shape[-1]]))\n",
    "one_img_mask = tf.concat([to_take, to_leave], axis=0)\n",
    "multiples = tf.cast(tf.shape(all_indices)[0] / tf.shape(one_img_mask)[0], \"int64\")\n",
    "full_mask = tf.tile(one_img_mask, [multiples])\n",
    "cropped_indexes = tf.boolean_mask(all_indices, full_mask)\n",
    "K.eval(cropped_indexes)"
   ]
  },
  {
   "cell_type": "code",
   "execution_count": 120,
   "metadata": {},
   "outputs": [
    {
     "data": {
      "text/plain": [
       "array([[[[ 2,  3,  4],\n",
       "         [ 2,  3,  4],\n",
       "         [ 2,  3,  4],\n",
       "         [ 2,  3,  4]],\n",
       "\n",
       "        [[ 6,  7,  8],\n",
       "         [ 6,  7,  8],\n",
       "         [ 6,  7,  8],\n",
       "         [ 6,  7,  8]],\n",
       "\n",
       "        [[10, 11, 12],\n",
       "         [ 6,  7,  8],\n",
       "         [ 6,  7,  8],\n",
       "         [ 6,  7,  8]],\n",
       "\n",
       "        [[14, 15, 16],\n",
       "         [14, 15, 16],\n",
       "         [14, 15, 16],\n",
       "         [14, 15, 16]]],\n",
       "\n",
       "\n",
       "       [[[ 2,  3,  4],\n",
       "         [ 2,  3,  4],\n",
       "         [ 2,  3,  4],\n",
       "         [ 2,  3,  4]],\n",
       "\n",
       "        [[ 6,  7,  8],\n",
       "         [ 6,  7,  8],\n",
       "         [ 6,  7,  8],\n",
       "         [ 6,  7,  8]],\n",
       "\n",
       "        [[10, 11, 12],\n",
       "         [10, 11, 12],\n",
       "         [10, 11, 12],\n",
       "         [10, 11, 12]],\n",
       "\n",
       "        [[14, 15, 16],\n",
       "         [14, 15, 16],\n",
       "         [14, 15, 16],\n",
       "         [14, 15, 16]]]])"
      ]
     },
     "execution_count": 120,
     "metadata": {},
     "output_type": "execute_result"
    }
   ],
   "source": [
    "\n",
    "#needed_indexes = tf.gather(all_indexes, indexes_to_keep, 1)\n",
    "modified_idxs = cropped_indexes[:, :3]\n",
    "selected_maps = tf.cast(tf.reshape(tf.contrib.framework.sort(indexes), (-1,)), \"int64\")\n",
    "repetitions = int(K.eval(tf.shape(modified_idxs)[0]/tf.shape(selected_maps)[0]))\n",
    "selected_maps = tf.tile(selected_maps, [repetitions])\n",
    "modified_idxs = tf.concat([modified_idxs, tf.expand_dims(selected_maps, -1)], -1)\n",
    "\n",
    "final_maps = tf.gather_nd(test_tensor, modified_idxs)\n",
    "final_maps = tf.reshape(final_maps, (2, 4, 4, 3))\n",
    "K.eval(final_maps)"
   ]
  },
  {
   "cell_type": "code",
   "execution_count": 91,
   "metadata": {},
   "outputs": [
    {
     "data": {
      "text/plain": [
       "array([ 1,  2,  3,  1,  2,  4,  1,  3,  4,  2,  3,  5,  6,  8,  5,  7,  8,\n",
       "        6,  7,  5,  6,  8,  9, 11, 12,  6,  7,  5,  6,  8,  5,  7,  8, 14,\n",
       "       15, 13, 14, 16, 13, 15, 16, 14, 15,  1,  2,  4,  1,  3,  4,  2,  3,\n",
       "        1,  2,  4,  5,  7,  8,  6,  7,  5,  6,  8,  5,  7,  8, 10, 11,  9,\n",
       "       10, 12,  9, 11, 12, 10, 11, 13, 14, 16, 13, 15, 16, 14, 15, 13, 14,\n",
       "       16])"
      ]
     },
     "execution_count": 91,
     "metadata": {},
     "output_type": "execute_result"
    }
   ],
   "source": [
    "extracted_indexes = tf.gather_nd(test_tensor, needed_indexes)\n",
    "K.eval(extracted_indexes)"
   ]
  }
 ],
 "metadata": {
  "@webio": {
   "lastCommId": "799cdd3984dd400891a314d6423ea916",
   "lastKernelId": "04e9d3b3-5987-494f-9b4b-1df0d70252c6"
  },
  "kernelspec": {
   "display_name": "Python 3",
   "language": "python",
   "name": "python3"
  },
  "language_info": {
   "codemirror_mode": {
    "name": "ipython",
    "version": 3
   },
   "file_extension": ".py",
   "mimetype": "text/x-python",
   "name": "python",
   "nbconvert_exporter": "python",
   "pygments_lexer": "ipython3",
   "version": "3.6.7"
  }
 },
 "nbformat": 4,
 "nbformat_minor": 2
}
