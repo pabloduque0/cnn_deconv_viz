{
 "cells": [
  {
   "cell_type": "code",
   "execution_count": 2,
   "metadata": {},
   "outputs": [
    {
     "name": "stderr",
     "output_type": "stream",
     "text": [
      "Using TensorFlow backend.\n"
     ]
    }
   ],
   "source": [
    "from keras import models\n",
    "from keras import layers\n",
    "from contextlib import redirect_stdout\n",
    "import os\n",
    "from keras.callbacks import ModelCheckpoint, TensorBoard\n",
    "from sklearn.model_selection import train_test_split\n",
    "from keras.models import load_model\n",
    "from keras.optimizers import Adam, SGD\n",
    "from metrics import dice_coef, dice_coef_loss, weighted_crossentropy, predicted_count, ground_truth_count, ground_truth_sum, predicted_sum\n",
    "import tensorflow as tf\n",
    "import keras.backend as K\n",
    "import numpy as np"
   ]
  },
  {
   "cell_type": "code",
   "execution_count": null,
   "metadata": {},
   "outputs": [],
   "source": [
    "img_path = \"\""
   ]
  },
  {
   "cell_type": "code",
   "execution_count": null,
   "metadata": {},
   "outputs": [],
   "source": [
    "t = tf.constant([[[1, 1], [2, 2]],\n",
    "                 [[3, 3], [4, 4]]])\n"
   ]
  },
  {
   "cell_type": "code",
   "execution_count": null,
   "metadata": {},
   "outputs": [],
   "source": [
    "%%timeit\n",
    "__out1 = tf.slice(t, [0, 0, 0], [1, 1, 2])"
   ]
  },
  {
   "cell_type": "code",
   "execution_count": null,
   "metadata": {},
   "outputs": [],
   "source": [
    "%%timeit\n",
    "__out2 = t[:1, :1, :2]"
   ]
  },
  {
   "cell_type": "code",
   "execution_count": null,
   "metadata": {},
   "outputs": [],
   "source": [
    "K.eval(__out1), K.eval(__out2)"
   ]
  },
  {
   "cell_type": "code",
   "execution_count": null,
   "metadata": {},
   "outputs": [],
   "source": [
    "inputs = layers.Input(shape=(10, 10, 1))\n",
    "conv1 = layers.Conv2D(64, kernel_size=5, padding='same', kernel_initializer='he_normal', activation='relu')(inputs)\n",
    "conv2 = layers.Conv2D(64, kernel_size=5, padding='same', kernel_initializer='he_normal', activation='relu')(conv1)\n",
    "output, switches = custom_layers.MaxPoolingWithArgmax2D(pool_size=(2, 2))(conv2)\n",
    "custom_layers.unpooling2D(output, argmax=switches)"
   ]
  },
  {
   "cell_type": "code",
   "execution_count": null,
   "metadata": {},
   "outputs": [],
   "source": [
    "t1 = [[1, 0, 3], [4, 0, 6]]\n",
    "t2 = [[7, 8, 9], [0, 0, 0]]\n",
    "t3 = tf.concat([t1, t2], 0)\n",
    "\n",
    "t4 = [[0, 0, 11, 0], [0, 9, 0, 0], [18, 0, 0, 0], [0, 0, 10, 0]]\n",
    "\n",
    "zero = tf.constant(0, dtype=tf.int32)\n",
    "argmax = tf.not_equal(t4, zero)\n",
    "argmax = tf.where(argmax)\n",
    "\n",
    "print(K.eval(argmax))\n",
    "\n",
    "argmax_np = K.eval(argmax)\n",
    "ind = np.lexsort([argmax_np[:, 0], argmax_np[:, 1]])\n",
    "argmax_np[ind]"
   ]
  },
  {
   "cell_type": "code",
   "execution_count": null,
   "metadata": {},
   "outputs": [],
   "source": [
    "#_, rows, columns, channels = K.int_shape(t4)\n",
    "%timeit\n",
    "_input = tf.Variable(np.random.rand(240, 240))\n",
    "print(K.eval(_input))\n",
    "rows, columns = K.int_shape(_input)\n",
    "poolsize = [2, 2]\n",
    "ordered_indices = None\n",
    "for chan in range(1):\n",
    "    for i in range(0, rows, poolsize[0]):\n",
    "        for j in range(0, columns, poolsize[1]):\n",
    "            pool_section = _input[i:i + poolsize[0], j:j + poolsize[1]]\n",
    "            #pool_section = tf.one_hot(pool_section, axis = 0)\n",
    "\n",
    "            flat_argmax = tf.cast(tf.argmax(K.flatten(pool_section)), tf.int32)\n",
    "\n",
    "            # convert indexes into 2D coordinates\n",
    "            argmax_row = flat_argmax // tf.shape(pool_section)[1] + i\n",
    "            argmax_col = flat_argmax % tf.shape(pool_section)[1] + j\n",
    "            \n",
    "            # stack and return 2D coordinates\n",
    "            argmax = tf.Variable([tf.stack([argmax_row, argmax_col], axis=0)])\n",
    "            \n",
    "            if ordered_indices is None:\n",
    "                ordered_indices = argmax\n",
    "            else:\n",
    "                ordered_indices = K.concatenate([ordered_indices, argmax], axis=0)\n",
    "\n",
    "K.eval(ordered_indices)"
   ]
  },
  {
   "cell_type": "code",
   "execution_count": null,
   "metadata": {},
   "outputs": [],
   "source": [
    "np_data = np.asanyarray(t4)"
   ]
  },
  {
   "cell_type": "code",
   "execution_count": null,
   "metadata": {},
   "outputs": [],
   "source": [
    "np_data.shape"
   ]
  },
  {
   "cell_type": "code",
   "execution_count": null,
   "metadata": {},
   "outputs": [],
   "source": [
    "np_data"
   ]
  },
  {
   "cell_type": "code",
   "execution_count": null,
   "metadata": {},
   "outputs": [],
   "source": [
    "from numpy.lib.stride_tricks import as_strided"
   ]
  },
  {
   "cell_type": "code",
   "execution_count": null,
   "metadata": {},
   "outputs": [],
   "source": [
    "\n",
    "arr_in = np.ascontiguousarray(np_data)\n",
    "block_shape = np.array((2,2))\n",
    "new_shape = tuple(np.array(np_data.shape) // block_shape) + tuple(block_shape)\n",
    "new_strides = tuple(np_data.strides * block_shape) + np_data.strides\n",
    "\n",
    "arr_out = as_strided(arr_in, shape=new_shape, strides=new_strides)"
   ]
  },
  {
   "cell_type": "code",
   "execution_count": null,
   "metadata": {},
   "outputs": [],
   "source": [
    "arr_out"
   ]
  },
  {
   "cell_type": "code",
   "execution_count": null,
   "metadata": {},
   "outputs": [],
   "source": [
    "arr_out[0, :, :, :]"
   ]
  },
  {
   "cell_type": "code",
   "execution_count": null,
   "metadata": {},
   "outputs": [],
   "source": [
    "np.cumprod([2, 2, 2])"
   ]
  },
  {
   "cell_type": "code",
   "execution_count": null,
   "metadata": {},
   "outputs": [],
   "source": [
    "reshape_to = list(arr_out.shape)\n",
    "reshape_to[-1], reshape_to[-2] = np.cumprod(block_shape)[-1], 1\n",
    "print(\"   \",reshape_to)\n",
    "reshaped = np.reshape(arr_out, reshape_to)\n",
    "argmax = np.argmax(reshaped, axis=2)"
   ]
  },
  {
   "cell_type": "code",
   "execution_count": null,
   "metadata": {},
   "outputs": [],
   "source": [
    "#argmax_row = np.argmax(arr_out, axis=2) + np.mgrid[0:4:2, 0:4:2][0]"
   ]
  },
  {
   "cell_type": "code",
   "execution_count": null,
   "metadata": {},
   "outputs": [],
   "source": [
    "#argmax_col = np.argmax(arr_out, axis=3) + np.mgrid[0:4:2, 0:4:2][1]"
   ]
  },
  {
   "cell_type": "code",
   "execution_count": null,
   "metadata": {},
   "outputs": [],
   "source": [
    "#print(argmax_row, \"\\n -------- \\n\" ,argmax_col)"
   ]
  },
  {
   "cell_type": "code",
   "execution_count": null,
   "metadata": {},
   "outputs": [],
   "source": [
    "argmax"
   ]
  },
  {
   "cell_type": "code",
   "execution_count": null,
   "metadata": {},
   "outputs": [],
   "source": [
    "argmax_row = argmax // block_shape[1] \n",
    "argmax_col = argmax % block_shape[1]"
   ]
  },
  {
   "cell_type": "code",
   "execution_count": null,
   "metadata": {},
   "outputs": [],
   "source": [
    "print(argmax_row, \"\\n -------- \\n\" ,argmax_col)"
   ]
  },
  {
   "cell_type": "code",
   "execution_count": null,
   "metadata": {},
   "outputs": [],
   "source": [
    "section_indexes = np.concatenate([np.expand_dims(np.ravel(argmax_row), 1), \n",
    "                                  np.expand_dims(np.ravel(argmax_col), 1)], axis=1)"
   ]
  },
  {
   "cell_type": "code",
   "execution_count": null,
   "metadata": {},
   "outputs": [],
   "source": [
    "section_indexes"
   ]
  },
  {
   "cell_type": "code",
   "execution_count": null,
   "metadata": {},
   "outputs": [],
   "source": [
    "section_indexes.shape"
   ]
  },
  {
   "cell_type": "code",
   "execution_count": null,
   "metadata": {},
   "outputs": [],
   "source": [
    "np.tile(np.arange(0, 4, 2), 2)"
   ]
  },
  {
   "cell_type": "code",
   "execution_count": null,
   "metadata": {},
   "outputs": [],
   "source": [
    "poolsize = block_shape\n",
    "section_indexes[:, 0] += np.repeat(np.arange(0, \n",
    "                                             np_data.shape[0],\n",
    "                                             poolsize[0]), np_data.shape[0] // poolsize[0])\n",
    "section_indexes[:, 1] += np.tile(np.arange(0, \n",
    "                                           np_data.shape[1], \n",
    "                                           poolsize[1]), np_data.shape[1] // poolsize[1])"
   ]
  },
  {
   "cell_type": "code",
   "execution_count": null,
   "metadata": {},
   "outputs": [],
   "source": [
    "section_indexes"
   ]
  },
  {
   "cell_type": "code",
   "execution_count": null,
   "metadata": {},
   "outputs": [],
   "source": [
    "np_data.shape[0] // poolsize[0]"
   ]
  },
  {
   "cell_type": "code",
   "execution_count": null,
   "metadata": {},
   "outputs": [],
   "source": [
    "argmax_row = argmax_row + _mgrid[0]"
   ]
  },
  {
   "cell_type": "code",
   "execution_count": null,
   "metadata": {},
   "outputs": [],
   "source": [
    "argmax_col = argmax_col + _mgrid[1]"
   ]
  },
  {
   "cell_type": "code",
   "execution_count": null,
   "metadata": {},
   "outputs": [],
   "source": []
  },
  {
   "cell_type": "code",
   "execution_count": null,
   "metadata": {},
   "outputs": [],
   "source": [
    "for i in range(reshaped.shape[0]):\n",
    "    for j in range(reshaped.shape[1]):\n",
    "        argmax_row = reshaped // block_shape[1] + i\n",
    "        argmax_col = reshaped % block_shape[1] + j"
   ]
  },
  {
   "cell_type": "code",
   "execution_count": null,
   "metadata": {},
   "outputs": [],
   "source": [
    "import skimage"
   ]
  },
  {
   "cell_type": "code",
   "execution_count": null,
   "metadata": {},
   "outputs": [],
   "source": [
    "output_rows = skimage.measure.block_reduce(np_data, (2,2), np.argmax, axis=1)\n",
    "output_cols = skimage.measure.block_reduce(np_data, (2,2), np.argmax, axis=2)"
   ]
  },
  {
   "cell_type": "code",
   "execution_count": null,
   "metadata": {},
   "outputs": [],
   "source": [
    "output_rows"
   ]
  },
  {
   "cell_type": "code",
   "execution_count": null,
   "metadata": {},
   "outputs": [],
   "source": [
    "output_cols"
   ]
  },
  {
   "cell_type": "code",
   "execution_count": null,
   "metadata": {
    "scrolled": true
   },
   "outputs": [],
   "source": [
    "switches_by_channel = []\n",
    "all_input_data = np.random.rand(240, 240, 3)\n",
    "for chan in range(all_input_data.shape[-1]):\n",
    "    input_data = all_input_data[:, :, chan]\n",
    "    poolsize = np.array((2, 2))\n",
    "    arr_in = np.ascontiguousarray(input_data)\n",
    "    new_shape = tuple(np.array(input_data.shape) // poolsize) + tuple(poolsize)\n",
    "    new_strides = tuple(input_data.strides * poolsize) + input_data.strides\n",
    "\n",
    "    arr_out = as_strided(arr_in, shape=new_shape, strides=new_strides)\n",
    "    reshape_to = list(arr_out.shape)\n",
    "    reshape_to[-1], reshape_to[-2] = np.cumprod(poolsize)[-1], 1\n",
    "    reshaped = np.reshape(arr_out, reshape_to)\n",
    "    argmax = np.argmax(reshaped, axis=3)\n",
    "    argmax_row = argmax // poolsize[1]\n",
    "    argmax_row = argmax % poolsize[1]\n",
    "    section_indexes = np.concatenate([np.expand_dims(np.ravel(argmax_row), 1),\n",
    "                                      np.expand_dims(np.ravel(argmax_col), 1)], axis=1)\n",
    "\n",
    "    section_indexes[:, 0] += np.repeat(np.arange(0,\n",
    "                                                 input_data.shape[0],\n",
    "                                                 poolsize[0]),\n",
    "                                       input_data.shape[0] // poolsize[0])\n",
    "\n",
    "    section_indexes[:, 1] += np.tile(np.arange(0,\n",
    "                                               input_data.shape[1],\n",
    "                                               poolsize[1]),\n",
    "                                     input_data.shape[1] // poolsize[1])\n",
    "    switches_by_channel.append(section_indexes)"
   ]
  },
  {
   "cell_type": "code",
   "execution_count": null,
   "metadata": {},
   "outputs": [],
   "source": [
    "section_indexes"
   ]
  },
  {
   "cell_type": "code",
   "execution_count": null,
   "metadata": {},
   "outputs": [],
   "source": [
    "np.random.rand(240, 240, 3)"
   ]
  },
  {
   "cell_type": "code",
   "execution_count": null,
   "metadata": {},
   "outputs": [],
   "source": [
    "np.arange(0, argmax.shape[1], poolsize[1]) "
   ]
  },
  {
   "cell_type": "code",
   "execution_count": null,
   "metadata": {},
   "outputs": [],
   "source": [
    "len(np.repeat(np.arange(0,\n",
    "                                             argmax.shape[0],\n",
    "                                             poolsize[0]),\n",
    "                                   argmax.shape[0] // poolsize[0]))"
   ]
  },
  {
   "cell_type": "code",
   "execution_count": null,
   "metadata": {},
   "outputs": [],
   "source": [
    "len(np.tile(np.arange(0,\n",
    "                                           argmax.shape[1],\n",
    "                                           poolsize[1]),\n",
    "                                 argmax.shape[1] // poolsize[1]))"
   ]
  },
  {
   "cell_type": "code",
   "execution_count": null,
   "metadata": {},
   "outputs": [],
   "source": [
    "120**2/4"
   ]
  },
  {
   "cell_type": "code",
   "execution_count": null,
   "metadata": {},
   "outputs": [],
   "source": [
    "len(section_indexes)"
   ]
  },
  {
   "cell_type": "code",
   "execution_count": null,
   "metadata": {},
   "outputs": [],
   "source": [
    "240**2//4"
   ]
  },
  {
   "cell_type": "markdown",
   "metadata": {},
   "source": [
    "## Mid speed"
   ]
  },
  {
   "cell_type": "code",
   "execution_count": null,
   "metadata": {},
   "outputs": [],
   "source": []
  },
  {
   "cell_type": "code",
   "execution_count": null,
   "metadata": {},
   "outputs": [],
   "source": []
  },
  {
   "cell_type": "code",
   "execution_count": 32,
   "metadata": {},
   "outputs": [
    {
     "data": {
      "text/plain": [
       "array([[ 9, 11],\n",
       "       [ 9, 11],\n",
       "       [18, 10],\n",
       "       [18, 10]])"
      ]
     },
     "execution_count": 32,
     "metadata": {},
     "output_type": "execute_result"
    }
   ],
   "source": [
    "input_data = tf.Variable(np.array([[0, 0, 11, 0], \n",
    "                                   [0, 9, 0, 0], \n",
    "                                   [18, 0, 0, 0], \n",
    "                                   [0, 0, 10, 0]]))\n",
    "\n",
    "#input_data = tf.Variable(np.arange(100**2).reshape(100, 100))\n",
    "pooled = tf.Variable(np.array([[9, 11],\n",
    "                              [18, 10]]))\n",
    "K.eval(K.reshape(K.repeat(pooled, 2), (4, 2)))"
   ]
  },
  {
   "cell_type": "code",
   "execution_count": 37,
   "metadata": {},
   "outputs": [
    {
     "data": {
      "text/plain": [
       "array([[[ 9, 11],\n",
       "        [ 9, 11]]])"
      ]
     },
     "execution_count": 37,
     "metadata": {},
     "output_type": "execute_result"
    }
   ],
   "source": [
    "K.eval(K.repeat(tf.Variable(np.array([[ 9, 11]])), 2))"
   ]
  },
  {
   "cell_type": "code",
   "execution_count": 43,
   "metadata": {},
   "outputs": [
    {
     "data": {
      "text/plain": [
       "array([[0, 0, 1, 0],\n",
       "       [0, 1, 0, 0],\n",
       "       [1, 0, 0, 0],\n",
       "       [0, 0, 1, 0]])"
      ]
     },
     "execution_count": 43,
     "metadata": {},
     "output_type": "execute_result"
    }
   ],
   "source": [
    "mask = tf.cast(tf.not_equal(input_data, tf.constant(0, dtype=tf.int64)), tf.int64)\n",
    "K.eval(mask)"
   ]
  },
  {
   "cell_type": "code",
   "execution_count": null,
   "metadata": {},
   "outputs": [],
   "source": [
    "pool_size = tf.Variable([2, 2])"
   ]
  },
  {
   "cell_type": "code",
   "execution_count": null,
   "metadata": {},
   "outputs": [],
   "source": [
    "%time\n",
    "data_blocks_rows = tf.split(input_data, K.int_shape(input_data)[0]//pool_size[0], 0)\n",
    "data_blocks = [tf.split(block, \n",
    "                        K.int_shape(input_data)[1]//pool_size[1],\n",
    "                        1) for block in data_blocks_rows]\n",
    "\n",
    "ordered_indices = None\n",
    "for i, row in enumerate(data_blocks):\n",
    "    for j, block in enumerate(row):\n",
    "        flat_argmax = tf.cast(tf.argmax(K.flatten(block)), tf.int32)\n",
    "\n",
    "        # convert indexes into 2D coordinates\n",
    "        argmax_row = (flat_argmax // tf.shape(block)[1]) + (i*2)\n",
    "        argmax_col = (flat_argmax % tf.shape(block)[1]) + (j*2)\n",
    "        # stack and return 2D coordinates\n",
    "        argmax = tf.Variable([tf.stack([argmax_row, argmax_col], axis=0)])\n",
    "\n",
    "        if ordered_indices is None:\n",
    "            ordered_indices = argmax\n",
    "        else:\n",
    "            ordered_indices = K.concatenate([ordered_indices, argmax], axis=0)\n"
   ]
  },
  {
   "cell_type": "code",
   "execution_count": null,
   "metadata": {},
   "outputs": [],
   "source": [
    "K.eval(ordered_indices)"
   ]
  },
  {
   "cell_type": "code",
   "execution_count": null,
   "metadata": {},
   "outputs": [],
   "source": []
  },
  {
   "cell_type": "code",
   "execution_count": null,
   "metadata": {},
   "outputs": [],
   "source": []
  }
 ],
 "metadata": {
  "kernelspec": {
   "display_name": "Python 3",
   "language": "python",
   "name": "python3"
  },
  "language_info": {
   "codemirror_mode": {
    "name": "ipython",
    "version": 3
   },
   "file_extension": ".py",
   "mimetype": "text/x-python",
   "name": "python",
   "nbconvert_exporter": "python",
   "pygments_lexer": "ipython3",
   "version": "3.6.6"
  }
 },
 "nbformat": 4,
 "nbformat_minor": 2
}
